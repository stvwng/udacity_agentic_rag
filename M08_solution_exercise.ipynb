{
 "cells": [
  {
   "cell_type": "markdown",
   "id": "e3778898",
   "metadata": {},
   "source": [
    "# [SOLUTION] Exercise - Building an Agentic RAG System\n",
    "\n",
    "In this exercise, you will build an Agentic RAG (Retrieval-Augmented Generation) system that \n",
    "combines the power of AI agents with traditional RAG pipelines. You'll create an agent that \n",
    "can decide when and how to retrieve information from different sources, including vector \n",
    "databases, web search, and other tools.\n"
   ]
  },
  {
   "cell_type": "markdown",
   "id": "12e57bd8",
   "metadata": {},
   "source": [
    "## Challenge\n",
    "\n",
    "Your challenge is to create an Agentic RAG system that can:\n",
    "\n",
    "- Build a RAG pipeline as a tool that can be used by the agent\n",
    "- Create an agent that can decide which tool to use based on the query\n",
    "- Handle different types of queries intelligently\n",
    "- Combine information from multiple sources when needed\n"
   ]
  },
  {
   "cell_type": "markdown",
   "id": "9fa44fc7",
   "metadata": {},
   "source": [
    "## Setup\n",
    "First, let's import the necessary libraries:"
   ]
  },
  {
   "cell_type": "code",
   "execution_count": 1,
   "id": "abc88fe6",
   "metadata": {},
   "outputs": [],
   "source": [
    "# Only needed for Udacity workspace\n",
    "\n",
    "import importlib.util\n",
    "import sys\n",
    "\n",
    "# Check if 'pysqlite3' is available before importing\n",
    "if importlib.util.find_spec(\"pysqlite3\") is not None:\n",
    "    import pysqlite3\n",
    "    sys.modules['sqlite3'] = sys.modules.pop('pysqlite3')"
   ]
  },
  {
   "cell_type": "code",
   "execution_count": 2,
   "id": "08286c75",
   "metadata": {},
   "outputs": [],
   "source": [
    "import os\n",
    "from typing import List\n",
    "from dotenv import load_dotenv\n",
    "\n",
    "from lib.agents import Agent\n",
    "from lib.llm import LLM\n",
    "from lib.state_machine import Run\n",
    "from lib.messages import BaseMessage\n",
    "from lib.tooling import tool\n",
    "from lib.vector_db import VectorStoreManager, CorpusLoaderService\n",
    "from lib.rag import RAG"
   ]
  },
  {
   "cell_type": "code",
   "execution_count": 3,
   "id": "4002bf4c",
   "metadata": {},
   "outputs": [
    {
     "data": {
      "text/plain": [
       "True"
      ]
     },
     "execution_count": 3,
     "metadata": {},
     "output_type": "execute_result"
    }
   ],
   "source": [
    "load_dotenv()"
   ]
  },
  {
   "cell_type": "code",
   "execution_count": 4,
   "id": "34fff998",
   "metadata": {},
   "outputs": [],
   "source": [
    "OPENAI_API_KEY = os.getenv(\"OPENAI_API_KEY\")"
   ]
  },
  {
   "cell_type": "markdown",
   "id": "fecf20cb",
   "metadata": {},
   "source": [
    "## Load data to Vector DB"
   ]
  },
  {
   "cell_type": "code",
   "execution_count": 5,
   "id": "96ff19b7",
   "metadata": {},
   "outputs": [
    {
     "data": {
      "text/plain": [
       "VectorStoreManager():<chromadb.api.client.Client object at 0x117cf3850>"
      ]
     },
     "execution_count": 5,
     "metadata": {},
     "output_type": "execute_result"
    }
   ],
   "source": [
    "db = VectorStoreManager(OPENAI_API_KEY)\n",
    "db"
   ]
  },
  {
   "cell_type": "code",
   "execution_count": 6,
   "id": "de2f3828",
   "metadata": {},
   "outputs": [],
   "source": [
    "loader_service = CorpusLoaderService(db)"
   ]
  },
  {
   "cell_type": "code",
   "execution_count": 7,
   "id": "92f0f38a",
   "metadata": {},
   "outputs": [],
   "source": [
    "rag_llm = LLM(\n",
    "    model=\"gpt-4o-mini\",\n",
    "    temperature=0.3,\n",
    ")"
   ]
  },
  {
   "cell_type": "code",
   "execution_count": 8,
   "id": "23ec93e6",
   "metadata": {},
   "outputs": [
    {
     "name": "stdout",
     "output_type": "stream",
     "text": [
      "VectorStore `games_market` ready!\n",
      "Pages from `TheGamingIndustry2024.pdf` added!\n"
     ]
    }
   ],
   "source": [
    "games_market_rag = RAG(\n",
    "    llm=rag_llm,\n",
    "    vector_store = loader_service.load_pdf(\n",
    "        store_name=\"games_market\",\n",
    "        pdf_path=\"TheGamingIndustry2024.pdf\",\n",
    "    )\n",
    ")"
   ]
  },
  {
   "cell_type": "code",
   "execution_count": 9,
   "id": "ea37488f",
   "metadata": {},
   "outputs": [
    {
     "name": "stdout",
     "output_type": "stream",
     "text": [
      "[StateMachine] Starting: __entry__\n",
      "[StateMachine] Executing step: retrieve\n",
      "[StateMachine] Executing step: augment\n",
      "[StateMachine] Executing step: generate\n",
      "[StateMachine] Terminating: __termination__\n",
      "The state of virtual reality (VR) in 2024 is characterized by its significant impact on the gaming industry, allowing players to immerse themselves in realistic and interactive digital environments. VR technology enhances gaming experiences through high-fidelity graphics, intuitive controls, and immersive audio, as exemplified by games like \"Half-Life: Alyx.\" Additionally, VR is being utilized beyond entertainment, influencing fields such as education and therapy, where it helps improve learning engagement and supports cognitive and physical rehabilitation. Overall, VR is a transformative force in gaming, reshaping how players interact with digital worlds.\n"
     ]
    }
   ],
   "source": [
    "result:Run = games_market_rag.invoke(\"What's the  state of virtual reality\")\n",
    "print(result.get_final_state()[\"answer\"])"
   ]
  },
  {
   "cell_type": "code",
   "execution_count": 10,
   "id": "bb431a46",
   "metadata": {},
   "outputs": [
    {
     "name": "stdout",
     "output_type": "stream",
     "text": [
      "VectorStore `electric_vehicles` ready!\n",
      "Pages from `GlobalEVOutlook2025.pdf` added!\n"
     ]
    }
   ],
   "source": [
    "electric_vehicles_rag = RAG(\n",
    "    llm=rag_llm,\n",
    "    vector_store = loader_service.load_pdf(\n",
    "        store_name=\"electric_vehicles\",\n",
    "        pdf_path=\"GlobalEVOutlook2025.pdf\",\n",
    "    )\n",
    ")"
   ]
  },
  {
   "cell_type": "code",
   "execution_count": 11,
   "id": "b02c5f8f",
   "metadata": {},
   "outputs": [
    {
     "name": "stdout",
     "output_type": "stream",
     "text": [
      "[StateMachine] Starting: __entry__\n",
      "[StateMachine] Executing step: retrieve\n",
      "[StateMachine] Executing step: augment\n",
      "[StateMachine] Executing step: generate\n",
      "[StateMachine] Terminating: __termination__\n",
      "In 2024, Brazil had nearly 125,000 electric car sales, which represented a market share of 6.5%.\n"
     ]
    }
   ],
   "source": [
    "result:Run = electric_vehicles_rag.invoke(\"What was the number of electric car sales and their market share in Brazil in 2024?\")\n",
    "print(result.get_final_state()[\"answer\"])"
   ]
  },
  {
   "cell_type": "markdown",
   "id": "8accfccd",
   "metadata": {},
   "source": [
    "## Tools\n",
    "\n",
    "In a simple form, Agentic RAG can act like a router, choosing between multiple external sources to retrieve relevant information. These sources aren't limited to databases, they can also include tools like web search or APIs for services such as Slack or email.\n",
    "\n",
    "In this case it will choose between two collections."
   ]
  },
  {
   "cell_type": "code",
   "execution_count": 12,
   "id": "654a3cad",
   "metadata": {},
   "outputs": [],
   "source": [
    "@tool\n",
    "def search_global_ev_collection(query):\n",
    "    \"\"\"\n",
    "    Search the vector database for relevant information.\n",
    "    \n",
    "    Source: Global EV Outlook 2025\n",
    "    Publisher: International Energy Agency\n",
    "    Release: May 2025\n",
    "    ```\n",
    "        The Global EV Outlook is an annual publication that reports on recent\n",
    "        developments in electric mobility around the world. It is developed with the support\n",
    "        of members of the Electric Vehicles Initiative (EVI).\n",
    "    ```\n",
    "\n",
    "    args:\n",
    "        query (str): Search query\n",
    "    \"\"\"\n",
    "    result:Run = electric_vehicles_rag.invoke(query)\n",
    "    return result.get_final_state()[\"answer\"]"
   ]
  },
  {
   "cell_type": "code",
   "execution_count": 13,
   "id": "f93dad65",
   "metadata": {},
   "outputs": [],
   "source": [
    "@tool\n",
    "def search_games_market_report_collection(query):\n",
    "    \"\"\"\n",
    "    Search the vector database for relevant information.\n",
    "    \n",
    "    Source: The Gaming Industry in 2024 - Trends, Technologies & Predictions\n",
    "    Publisher: Ixie Gaming\n",
    "    Release: 2024\n",
    "    ```\n",
    "        The gaming industry, on the brink of transformative change due to technological\n",
    "        advancements, is redefining entertainment and social interaction with\n",
    "        immersive, personalized, and interactive experiences.\n",
    "    ```\n",
    "\n",
    "    args:\n",
    "        query (str): Search query\n",
    "    \"\"\"\n",
    "    result:Run = games_market_rag.invoke(query)\n",
    "    return result.get_final_state()[\"answer\"]"
   ]
  },
  {
   "cell_type": "code",
   "execution_count": 14,
   "id": "55545fd9",
   "metadata": {},
   "outputs": [],
   "source": [
    "agentic_rag = Agent(\n",
    "    model_name=\"gpt-4o-mini\",\n",
    "    tools=[search_global_ev_collection, search_games_market_report_collection],\n",
    "    instructions=(\n",
    "        \"You are an Agentic RAG assistant that can intelligently decide which tools to use \"\n",
    "        \"to answer user questions. Reason about about the response, change the query and call the tool again if needed \"\n",
    "        \"in order to get better results. Always explain your reasoning for tool selection and provide comprehensive answers.\"\n",
    "    )\n",
    ")"
   ]
  },
  {
   "cell_type": "code",
   "execution_count": 15,
   "id": "8b249160",
   "metadata": {},
   "outputs": [],
   "source": [
    "def print_messages(messages: List[BaseMessage]):\n",
    "    for m in messages: \n",
    "        print(f\" -> (role = {m.role}, content = {m.content}, tool_calls = {getattr(m, 'tool_calls', None)})\")"
   ]
  },
  {
   "cell_type": "code",
   "execution_count": 16,
   "id": "456b76fd",
   "metadata": {},
   "outputs": [
    {
     "name": "stdout",
     "output_type": "stream",
     "text": [
      "[StateMachine] Starting: __entry__\n",
      "[StateMachine] Executing step: message_prep\n",
      "[StateMachine] Executing step: llm_processor\n",
      "[StateMachine] Terminating: __termination__\n",
      "\n",
      "Messages from run 1:\n",
      " -> (role = system, content = You are an Agentic RAG assistant that can intelligently decide which tools to use to answer user questions. Reason about about the response, change the query and call the tool again if needed in order to get better results. Always explain your reasoning for tool selection and provide comprehensive answers., tool_calls = None)\n",
      " -> (role = user, content = Who won the 2025 Oscar for International Movie?, tool_calls = None)\n",
      " -> (role = assistant, content = I currently do not have access to real-time information or updates beyond October 2023, so I cannot provide the winner of the 2025 Oscar for International Movie. You may want to check a reliable news source or the official Oscars website for the most accurate and up-to-date information., tool_calls = None)\n"
     ]
    }
   ],
   "source": [
    "run_1 = agentic_rag.invoke(\n",
    "    query=\"Who won the 2025 Oscar for International Movie?\", \n",
    "    session_id=\"oscar\",\n",
    ")\n",
    "\n",
    "print(\"\\nMessages from run 1:\")\n",
    "messages = run_1.get_final_state()[\"messages\"]\n",
    "print_messages(messages)"
   ]
  },
  {
   "cell_type": "code",
   "execution_count": 17,
   "id": "b3831d49",
   "metadata": {},
   "outputs": [
    {
     "name": "stdout",
     "output_type": "stream",
     "text": [
      "[StateMachine] Starting: __entry__\n",
      "[StateMachine] Executing step: message_prep\n",
      "[StateMachine] Executing step: llm_processor\n",
      "[StateMachine] Starting: __entry__\n",
      "[StateMachine] Executing step: retrieve\n",
      "[StateMachine] Executing step: augment\n",
      "[StateMachine] Executing step: generate\n",
      "[StateMachine] Terminating: __termination__\n",
      "[StateMachine] Executing step: tool_executor\n",
      "[StateMachine] Executing step: llm_processor\n",
      "[StateMachine] Terminating: __termination__\n",
      "\n",
      "Messages from run 2:\n",
      " -> (role = system, content = You are an Agentic RAG assistant that can intelligently decide which tools to use to answer user questions. Reason about about the response, change the query and call the tool again if needed in order to get better results. Always explain your reasoning for tool selection and provide comprehensive answers., tool_calls = None)\n",
      " -> (role = user, content = Which two countries accounted for most of the electric car exports from the Asia Pacific region (excluding China) in 2024?, tool_calls = None)\n",
      " -> (role = assistant, content = None, tool_calls = [ChatCompletionMessageToolCall(id='call_AoAWOZLr5uJlYGSaeetHkIMA', function=Function(arguments='{\"query\":\"electric car exports Asia Pacific region 2024 excluding China\"}', name='search_global_ev_collection'), type='function')])\n",
      " -> (role = tool, content = \"In 2024, Japan and Korea accounted for the majority of the nearly 640,000 electric cars exported from the Asia Pacific region, excluding China, which represented an increase of 15% from 2023. The United States was the main destination for these exports, making up more than a quarter of the total production from the region. Europe was the second-largest destination, importing another quarter of the region's electric car production.\", tool_calls = None)\n",
      " -> (role = assistant, content = In 2024, the two countries that accounted for most of the electric car exports from the Asia Pacific region, excluding China, were Japan and Korea. They collectively exported nearly 640,000 electric cars, marking a 15% increase from the previous year., tool_calls = None)\n"
     ]
    }
   ],
   "source": [
    "run_2 = agentic_rag.invoke(\n",
    "    query= (\n",
    "        \"Which two countries accounted for most of the electric car exports from \" \n",
    "        \"the Asia Pacific region (excluding China) in 2024?\"\n",
    "    ),\n",
    "    session_id=\"electric_car\",\n",
    ")\n",
    "\n",
    "print(\"\\nMessages from run 2:\")\n",
    "messages = run_2.get_final_state()[\"messages\"]\n",
    "print_messages(messages)"
   ]
  },
  {
   "cell_type": "code",
   "execution_count": 18,
   "id": "25698ab2",
   "metadata": {},
   "outputs": [
    {
     "name": "stdout",
     "output_type": "stream",
     "text": [
      "[StateMachine] Starting: __entry__\n",
      "[StateMachine] Executing step: message_prep\n",
      "[StateMachine] Executing step: llm_processor\n",
      "[StateMachine] Starting: __entry__\n",
      "[StateMachine] Executing step: retrieve\n",
      "[StateMachine] Executing step: augment\n",
      "[StateMachine] Executing step: generate\n",
      "[StateMachine] Terminating: __termination__\n",
      "[StateMachine] Executing step: tool_executor\n",
      "[StateMachine] Executing step: llm_processor\n",
      "[StateMachine] Terminating: __termination__\n",
      "\n",
      "Messages from run 3:\n",
      " -> (role = system, content = You are an Agentic RAG assistant that can intelligently decide which tools to use to answer user questions. Reason about about the response, change the query and call the tool again if needed in order to get better results. Always explain your reasoning for tool selection and provide comprehensive answers., tool_calls = None)\n",
      " -> (role = user, content = How games are revolutionizing education?, tool_calls = None)\n",
      " -> (role = assistant, content = None, tool_calls = [ChatCompletionMessageToolCall(id='call_DJiGug5ZU9YV8cIZ5ijAFuIw', function=Function(arguments='{\"query\":\"games revolutionizing education\"}', name='search_games_market_report_collection'), type='function')])\n",
      " -> (role = tool, content = \"Games are revolutionizing education by transforming the way subjects are taught through various innovative methods. Educational games are making learning more effective and engaging, while simulation games can improve critical thinking abilities. Gamification is being utilized to enhance student motivation and engagement, and virtual reality (VR) is being leveraged for immersive learning experiences in classrooms. Additionally, games are being used in cognitive behavioral therapy and physical rehabilitation, demonstrating their broad impact on education and other fields.\", tool_calls = None)\n",
      " -> (role = assistant, content = Games are revolutionizing education in several impactful ways:\n",
      "\n",
      "1. **Innovative Teaching Methods**: Educational games are changing how subjects are taught, making learning more effective and engaging. They provide interactive experiences that can enhance comprehension and retention.\n",
      "\n",
      "2. **Improved Critical Thinking**: Simulation games are particularly effective in developing critical thinking skills. They allow students to engage in problem-solving scenarios that require thoughtful analysis and decision-making.\n",
      "\n",
      "3. **Gamification**: This approach incorporates game-like elements into educational contexts to boost student motivation and engagement. By introducing challenges, rewards, and competition, learners are encouraged to participate more actively.\n",
      "\n",
      "4. **Virtual Reality (VR)**: VR technology is being utilized to create immersive learning experiences. Students can explore complex concepts in a virtual environment, which can lead to a deeper understanding of the material.\n",
      "\n",
      "5. **Broader Applications**: Beyond traditional education, games are also being utilized in fields such as cognitive behavioral therapy and physical rehabilitation, showcasing their versatility and effectiveness in various educational and therapeutic settings.\n",
      "\n",
      "These innovations highlight the transformative potential of games in education, making learning more dynamic and interactive., tool_calls = None)\n"
     ]
    }
   ],
   "source": [
    "run_3 = agentic_rag.invoke(\n",
    "    query= (\n",
    "        \"How games are revolutionizing education?\"\n",
    "    ),\n",
    "    session_id=\"games\",\n",
    ")\n",
    "\n",
    "print(\"\\nMessages from run 3:\")\n",
    "messages = run_3.get_final_state()[\"messages\"]\n",
    "print_messages(messages)"
   ]
  },
  {
   "cell_type": "code",
   "execution_count": null,
   "id": "eff934c9",
   "metadata": {},
   "outputs": [],
   "source": []
  }
 ],
 "metadata": {
  "kernelspec": {
   "display_name": ".venv",
   "language": "python",
   "name": "python3"
  },
  "language_info": {
   "codemirror_mode": {
    "name": "ipython",
    "version": 3
   },
   "file_extension": ".py",
   "mimetype": "text/x-python",
   "name": "python",
   "nbconvert_exporter": "python",
   "pygments_lexer": "ipython3",
   "version": "3.11.10"
  }
 },
 "nbformat": 4,
 "nbformat_minor": 5
}
