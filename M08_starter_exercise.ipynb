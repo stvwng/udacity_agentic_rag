{
 "cells": [
  {
   "cell_type": "markdown",
   "id": "e3778898",
   "metadata": {},
   "source": [
    "# [STARTER] Exercise - Building an Agentic RAG System\n",
    "\n",
    "In this exercise, you will build an Agentic RAG (Retrieval-Augmented Generation) system that \n",
    "combines the power of AI agents with traditional RAG pipelines. You'll create an agent that \n",
    "can decide when and how to retrieve information from different sources, including vector \n",
    "databases, web search, and other tools.\n"
   ]
  },
  {
   "cell_type": "markdown",
   "id": "12e57bd8",
   "metadata": {},
   "source": [
    "## Challenge\n",
    "\n",
    "Your challenge is to create an Agentic RAG system that can:\n",
    "\n",
    "- Build a RAG pipeline as a tool that can be used by the agent\n",
    "- Create an agent that can decide which tool to use based on the query\n",
    "- Handle different types of queries intelligently\n",
    "- Combine information from multiple sources when needed\n"
   ]
  },
  {
   "cell_type": "markdown",
   "id": "9fa44fc7",
   "metadata": {},
   "source": [
    "## Setup\n",
    "First, let's import the necessary libraries:"
   ]
  },
  {
   "cell_type": "code",
   "execution_count": null,
   "id": "2023814b",
   "metadata": {},
   "outputs": [],
   "source": [
    "# Only needed for Udacity workspace\n",
    "\n",
    "import importlib.util\n",
    "import sys\n",
    "\n",
    "# Check if 'pysqlite3' is available before importing\n",
    "if importlib.util.find_spec(\"pysqlite3\") is not None:\n",
    "    import pysqlite3\n",
    "    sys.modules['sqlite3'] = sys.modules.pop('pysqlite3')"
   ]
  },
  {
   "cell_type": "code",
   "execution_count": null,
   "id": "08286c75",
   "metadata": {},
   "outputs": [],
   "source": [
    "import os\n",
    "from typing import List\n",
    "from dotenv import load_dotenv\n",
    "\n",
    "from lib.agents import Agent\n",
    "from lib.llm import LLM\n",
    "from lib.state_machine import Run\n",
    "from lib.messages import BaseMessage\n",
    "from lib.tooling import tool\n",
    "from lib.vector_db import VectorStoreManager, CorpusLoaderService\n",
    "from lib.rag import RAG"
   ]
  },
  {
   "cell_type": "code",
   "execution_count": null,
   "id": "4002bf4c",
   "metadata": {},
   "outputs": [],
   "source": [
    "load_dotenv()"
   ]
  },
  {
   "cell_type": "code",
   "execution_count": null,
   "id": "34fff998",
   "metadata": {},
   "outputs": [],
   "source": [
    "OPENAI_API_KEY = os.getenv(\"OPENAI_API_KEY\")"
   ]
  },
  {
   "cell_type": "markdown",
   "id": "fecf20cb",
   "metadata": {},
   "source": [
    "## Load data to Vector DB"
   ]
  },
  {
   "cell_type": "code",
   "execution_count": null,
   "id": "96ff19b7",
   "metadata": {},
   "outputs": [],
   "source": [
    "db = VectorStoreManager(OPENAI_API_KEY)\n",
    "db"
   ]
  },
  {
   "cell_type": "code",
   "execution_count": null,
   "id": "de2f3828",
   "metadata": {},
   "outputs": [],
   "source": [
    "loader_service = CorpusLoaderService(db)"
   ]
  },
  {
   "cell_type": "code",
   "execution_count": null,
   "id": "92f0f38a",
   "metadata": {},
   "outputs": [],
   "source": [
    "rag_llm = LLM(\n",
    "    model=\"gpt-4o-mini\",\n",
    "    temperature=0.3,\n",
    ")"
   ]
  },
  {
   "cell_type": "code",
   "execution_count": null,
   "id": "23ec93e6",
   "metadata": {},
   "outputs": [],
   "source": [
    "# TODO: Add the games pdf file path with the extenstion .pdf\n",
    "# And define a store name in load_pdf() method\n",
    "\n",
    "games_market_rag = RAG(\n",
    "    llm=rag_llm,\n",
    "    vector_store = loader_service.load_pdf()\n",
    ")"
   ]
  },
  {
   "cell_type": "code",
   "execution_count": null,
   "id": "ea37488f",
   "metadata": {},
   "outputs": [],
   "source": [
    "result:Run = games_market_rag.invoke(\n",
    "    \"What's the  state of virtual reality\"\n",
    ")\n",
    "print(result.get_final_state()[\"answer\"])"
   ]
  },
  {
   "cell_type": "code",
   "execution_count": null,
   "id": "bb431a46",
   "metadata": {},
   "outputs": [],
   "source": [
    "# TODO: Add the electric vehicles pdf file path with the extenstion .pdf\n",
    "# And define a store name in load_pdf() method\n",
    "\n",
    "electric_vehicles_rag = RAG(\n",
    "    llm=rag_llm,\n",
    "    vector_store = loader_service.load_pdf()\n",
    ")"
   ]
  },
  {
   "cell_type": "code",
   "execution_count": null,
   "id": "b02c5f8f",
   "metadata": {},
   "outputs": [],
   "source": [
    "result:Run = electric_vehicles_rag.invoke(\"What was the number of electric car sales and their market share in Brazil in 2024?\")\n",
    "print(result.get_final_state()[\"answer\"])"
   ]
  },
  {
   "cell_type": "markdown",
   "id": "8accfccd",
   "metadata": {},
   "source": [
    "## Tools\n",
    "\n",
    "In a simple form, Agentic RAG can act like a router, choosing between multiple external sources to retrieve relevant information. These sources aren't limited to databases, they can also include tools like web search or APIs for services such as Slack or email.\n",
    "\n",
    "In this case it will choose between two collections."
   ]
  },
  {
   "cell_type": "code",
   "execution_count": null,
   "id": "654a3cad",
   "metadata": {},
   "outputs": [],
   "source": [
    "# TODO: Define a tool that returns result.get_final_state()[\"answer\"]\n",
    "# DONOT Forget about defining the tool docstrings\n",
    "@tool\n",
    "def search_global_ev_collection(query):\n",
    "    return"
   ]
  },
  {
   "cell_type": "code",
   "execution_count": null,
   "id": "f93dad65",
   "metadata": {},
   "outputs": [],
   "source": [
    "# TODO: Define a tool that returns result.get_final_state()[\"answer\"]\n",
    "# DONOT Forget about defining the tool docstrings\n",
    "@tool\n",
    "def search_games_market_report_collection(query):\n",
    "    return"
   ]
  },
  {
   "cell_type": "code",
   "execution_count": null,
   "id": "55545fd9",
   "metadata": {},
   "outputs": [],
   "source": [
    "# TODO: Add the tools you have defined and the instructions to your agent\n",
    "agentic_rag = Agent(\n",
    "    model_name=\"gpt-4o-mini\",\n",
    "    tools=[],    \n",
    "    instructions=\"\"\n",
    ")"
   ]
  },
  {
   "cell_type": "code",
   "execution_count": null,
   "id": "8b249160",
   "metadata": {},
   "outputs": [],
   "source": [
    "def print_messages(messages: List[BaseMessage]):\n",
    "    for m in messages: \n",
    "        print(f\" -> (role = {m.role}, content = {m.content}, tool_calls = {getattr(m, 'tool_calls', None)})\")"
   ]
  },
  {
   "cell_type": "markdown",
   "id": "eab35308",
   "metadata": {},
   "source": [
    "## Run"
   ]
  },
  {
   "cell_type": "code",
   "execution_count": null,
   "id": "456b76fd",
   "metadata": {},
   "outputs": [],
   "source": [
    "run_1 = agentic_rag.invoke(\n",
    "    query=\"Who won the 2025 Oscar for International Movie?\", \n",
    "    session_id=\"oscar\",\n",
    ")\n",
    "\n",
    "print(\"\\nMessages from run 1:\")\n",
    "messages = run_1.get_final_state()[\"messages\"]\n",
    "print_messages(messages)"
   ]
  },
  {
   "cell_type": "code",
   "execution_count": null,
   "id": "b3831d49",
   "metadata": {},
   "outputs": [],
   "source": [
    "run_2 = agentic_rag.invoke(\n",
    "    query= (\n",
    "        \"Which two countries accounted for most of the electric car exports from \" \n",
    "        \"the Asia Pacific region (excluding China) in 2024?\"\n",
    "    ),\n",
    "    session_id=\"electric_car\",\n",
    ")\n",
    "\n",
    "print(\"\\nMessages from run 2:\")\n",
    "messages = run_2.get_final_state()[\"messages\"]\n",
    "print_messages(messages)"
   ]
  },
  {
   "cell_type": "code",
   "execution_count": null,
   "id": "25698ab2",
   "metadata": {},
   "outputs": [],
   "source": [
    "run_3 = agentic_rag.invoke(\n",
    "    query= (\n",
    "        \"Why is generative AI seen more as an accelerator than a replacement in game development?\"\n",
    "    ),\n",
    "    session_id=\"games\",\n",
    ")\n",
    "\n",
    "print(\"\\nMessages from run 3:\")\n",
    "messages = run_3.get_final_state()[\"messages\"]\n",
    "print_messages(messages)"
   ]
  },
  {
   "cell_type": "code",
   "execution_count": null,
   "id": "eff934c9",
   "metadata": {},
   "outputs": [],
   "source": []
  }
 ],
 "metadata": {
  "kernelspec": {
   "display_name": ".venv",
   "language": "python",
   "name": "python3"
  },
  "language_info": {
   "codemirror_mode": {
    "name": "ipython",
    "version": 3
   },
   "file_extension": ".py",
   "mimetype": "text/x-python",
   "name": "python",
   "nbconvert_exporter": "python",
   "pygments_lexer": "ipython3",
   "version": "3.11.10"
  }
 },
 "nbformat": 4,
 "nbformat_minor": 5
}
