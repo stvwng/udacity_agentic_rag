{
 "cells": [
  {
   "cell_type": "markdown",
   "id": "e3778898",
   "metadata": {},
   "source": [
    "# [STARTER] Exercise - Building an Agentic RAG System\n",
    "\n",
    "In this exercise, you will build an Agentic RAG (Retrieval-Augmented Generation) system that \n",
    "combines the power of AI agents with traditional RAG pipelines. You'll create an agent that \n",
    "can decide when and how to retrieve information from different sources, including vector \n",
    "databases, web search, and other tools.\n"
   ]
  },
  {
   "cell_type": "markdown",
   "id": "12e57bd8",
   "metadata": {},
   "source": [
    "## Challenge\n",
    "\n",
    "Your challenge is to create an Agentic RAG system that can:\n",
    "\n",
    "- Build a RAG pipeline as a tool that can be used by the agent\n",
    "- Create an agent that can decide which tool to use based on the query\n",
    "- Handle different types of queries intelligently\n",
    "- Combine information from multiple sources when needed\n"
   ]
  },
  {
   "cell_type": "markdown",
   "id": "9fa44fc7",
   "metadata": {},
   "source": [
    "## Setup\n",
    "First, let's import the necessary libraries:"
   ]
  },
  {
   "cell_type": "code",
   "execution_count": null,
   "id": "2023814b",
   "metadata": {},
   "outputs": [],
   "source": [
    "# Only needed for Udacity workspace\n",
    "\n",
    "import importlib.util\n",
    "import sys\n",
    "\n",
    "# Check if 'pysqlite3' is available before importing\n",
    "if importlib.util.find_spec(\"pysqlite3\") is not None:\n",
    "    import pysqlite3\n",
    "    sys.modules['sqlite3'] = sys.modules.pop('pysqlite3')"
   ]
  },
  {
   "cell_type": "code",
   "execution_count": 1,
   "id": "08286c75",
   "metadata": {},
   "outputs": [],
   "source": [
    "import os\n",
    "from typing import List\n",
    "from dotenv import load_dotenv\n",
    "\n",
    "from lib.agents import Agent\n",
    "from lib.llm import LLM\n",
    "from lib.state_machine import Run\n",
    "from lib.messages import BaseMessage\n",
    "from lib.tooling import tool\n",
    "from lib.vector_db import VectorStoreManager, CorpusLoaderService\n",
    "from lib.rag import RAG"
   ]
  },
  {
   "cell_type": "code",
   "execution_count": 2,
   "id": "34fff998",
   "metadata": {},
   "outputs": [],
   "source": [
    "OPENAI_API_KEY = os.getenv(\"OPENAI_API_KEY\")"
   ]
  },
  {
   "cell_type": "markdown",
   "id": "fecf20cb",
   "metadata": {},
   "source": [
    "## Load data to Vector DB"
   ]
  },
  {
   "cell_type": "code",
   "execution_count": 3,
   "id": "96ff19b7",
   "metadata": {},
   "outputs": [
    {
     "data": {
      "text/plain": [
       "VectorStoreManager():<chromadb.api.client.Client object at 0x120206090>"
      ]
     },
     "execution_count": 3,
     "metadata": {},
     "output_type": "execute_result"
    }
   ],
   "source": [
    "db = VectorStoreManager(OPENAI_API_KEY)\n",
    "db"
   ]
  },
  {
   "cell_type": "code",
   "execution_count": 4,
   "id": "de2f3828",
   "metadata": {},
   "outputs": [],
   "source": [
    "loader_service = CorpusLoaderService(db)"
   ]
  },
  {
   "cell_type": "code",
   "execution_count": 5,
   "id": "92f0f38a",
   "metadata": {},
   "outputs": [],
   "source": [
    "rag_llm = LLM(\n",
    "    model=\"gpt-4o-mini\",\n",
    "    temperature=0.3,\n",
    ")"
   ]
  },
  {
   "cell_type": "code",
   "execution_count": 6,
   "id": "23ec93e6",
   "metadata": {},
   "outputs": [
    {
     "name": "stdout",
     "output_type": "stream",
     "text": [
      "VectorStore `gaming_industry` ready!\n",
      "Pages from `TheGamingIndustry2024.pdf` added!\n"
     ]
    }
   ],
   "source": [
    "# TODO: Add the games pdf file path with the extenstion .pdf\n",
    "# And define a store name in load_pdf() method\n",
    "\n",
    "file_path = \"TheGamingIndustry2024.pdf\"\n",
    "\n",
    "\n",
    "\n",
    "games_market_rag = RAG(\n",
    "    llm=rag_llm,\n",
    "    vector_store = loader_service.load_pdf(store_name=\"gaming_industry\", pdf_path=file_path)\n",
    ")"
   ]
  },
  {
   "cell_type": "code",
   "execution_count": 7,
   "id": "ea37488f",
   "metadata": {},
   "outputs": [
    {
     "name": "stdout",
     "output_type": "stream",
     "text": [
      "[StateMachine] Starting: __entry__\n",
      "[StateMachine] Executing step: retrieve\n",
      "[StateMachine] Executing step: augment\n",
      "[StateMachine] Executing step: generate\n",
      "[StateMachine] Terminating: __termination__\n",
      "The state of virtual reality (VR) in 2024 is characterized by its significant impact on the gaming industry, allowing players to immerse themselves in realistic and interactive digital environments. VR technology is empowering creators to develop engaging gaming experiences, as exemplified by games like “Half-Life: Alyx,” which features high-fidelity graphics, intuitive controls, and immersive audio. The technology is also being leveraged in educational settings, enhancing learning through immersive experiences. Overall, VR is seen as a transformative force in gaming, driving innovation and expanding the boundaries of player engagement.\n"
     ]
    }
   ],
   "source": [
    "result:Run = games_market_rag.invoke(\n",
    "    \"What's the  state of virtual reality\"\n",
    ")\n",
    "print(result.get_final_state()[\"answer\"])"
   ]
  },
  {
   "cell_type": "code",
   "execution_count": 8,
   "id": "bb431a46",
   "metadata": {},
   "outputs": [
    {
     "name": "stdout",
     "output_type": "stream",
     "text": [
      "VectorStore `ev_outlook` ready!\n",
      "Pages from `GlobalEVOutlook2025.pdf` added!\n"
     ]
    }
   ],
   "source": [
    "# TODO: Add the electric vehicles pdf file path with the extenstion .pdf\n",
    "# And define a store name in load_pdf() method\n",
    "\n",
    "ev_file_path = \"GlobalEVOutlook2025.pdf\"\n",
    "\n",
    "electric_vehicles_rag = RAG(\n",
    "    llm=rag_llm,\n",
    "    vector_store = loader_service.load_pdf(store_name=\"ev_outlook\",pdf_path=ev_file_path)\n",
    ")"
   ]
  },
  {
   "cell_type": "code",
   "execution_count": 9,
   "id": "b02c5f8f",
   "metadata": {},
   "outputs": [
    {
     "name": "stdout",
     "output_type": "stream",
     "text": [
      "[StateMachine] Starting: __entry__\n",
      "[StateMachine] Executing step: retrieve\n",
      "[StateMachine] Executing step: augment\n",
      "[StateMachine] Executing step: generate\n",
      "[StateMachine] Terminating: __termination__\n",
      "In 2024, Brazil had nearly 125,000 electric car sales, which represented a market share of 6.5%.\n"
     ]
    }
   ],
   "source": [
    "result:Run = electric_vehicles_rag.invoke(\"What was the number of electric car sales and their market share in Brazil in 2024?\")\n",
    "print(result.get_final_state()[\"answer\"])"
   ]
  },
  {
   "cell_type": "markdown",
   "id": "8accfccd",
   "metadata": {},
   "source": [
    "## Tools\n",
    "\n",
    "In a simple form, Agentic RAG can act like a router, choosing between multiple external sources to retrieve relevant information. These sources aren't limited to databases, they can also include tools like web search or APIs for services such as Slack or email.\n",
    "\n",
    "In this case it will choose between two collections."
   ]
  },
  {
   "cell_type": "code",
   "execution_count": 10,
   "id": "654a3cad",
   "metadata": {},
   "outputs": [],
   "source": [
    "# TODO: Define a tool that returns result.get_final_state()[\"answer\"]\n",
    "# DONOT Forget about defining the tool docstrings\n",
    "@tool\n",
    "def search_global_ev_collection(query):\n",
    "    result:Run = games_market_rag.invoke(query)\n",
    "    return result.get_final_state()[\"answer\"]"
   ]
  },
  {
   "cell_type": "code",
   "execution_count": 11,
   "id": "f93dad65",
   "metadata": {},
   "outputs": [],
   "source": [
    "# TODO: Define a tool that returns result.get_final_state()[\"answer\"]\n",
    "# DONOT Forget about defining the tool docstrings\n",
    "@tool\n",
    "def search_games_market_report_collection(query):\n",
    "    result:Run = games_market_rag.invoke(query)\n",
    "    return result.get_final_state()[\"answer\"]"
   ]
  },
  {
   "cell_type": "code",
   "execution_count": 12,
   "id": "55545fd9",
   "metadata": {},
   "outputs": [],
   "source": [
    "# TODO: Add the tools you have defined and the instructions to your agent\n",
    "agentic_rag = Agent(\n",
    "    model_name=\"gpt-4o-mini\",\n",
    "    tools=[search_games_market_report_collection, search_global_ev_collection],    \n",
    "    instructions=\"You are an expert market analyst.\"\n",
    ")"
   ]
  },
  {
   "cell_type": "code",
   "execution_count": 13,
   "id": "8b249160",
   "metadata": {},
   "outputs": [],
   "source": [
    "def print_messages(messages: List[BaseMessage]):\n",
    "    for m in messages: \n",
    "        print(f\" -> (role = {m.role}, content = {m.content}, tool_calls = {getattr(m, 'tool_calls', None)})\")"
   ]
  },
  {
   "cell_type": "markdown",
   "id": "eab35308",
   "metadata": {},
   "source": [
    "## Run"
   ]
  },
  {
   "cell_type": "code",
   "execution_count": 14,
   "id": "456b76fd",
   "metadata": {},
   "outputs": [
    {
     "name": "stdout",
     "output_type": "stream",
     "text": [
      "[StateMachine] Starting: __entry__\n",
      "[StateMachine] Executing step: message_prep\n",
      "[StateMachine] Executing step: llm_processor\n",
      "[StateMachine] Terminating: __termination__\n",
      "\n",
      "Messages from run 1:\n",
      " -> (role = system, content = You are an expert market analyst., tool_calls = None)\n",
      " -> (role = user, content = Who won the 2025 Oscar for International Movie?, tool_calls = None)\n",
      " -> (role = assistant, content = I'm sorry, but I don't have access to real-time information or events that occurred after October 2023, including the winners of the 2025 Oscars. You may want to check a reliable news source or the official Oscars website for the most up-to-date information., tool_calls = None)\n"
     ]
    }
   ],
   "source": [
    "run_1 = agentic_rag.invoke(\n",
    "    query=\"Who won the 2025 Oscar for International Movie?\", \n",
    "    session_id=\"oscar\",\n",
    ")\n",
    "\n",
    "print(\"\\nMessages from run 1:\")\n",
    "messages = run_1.get_final_state()[\"messages\"]\n",
    "print_messages(messages)"
   ]
  },
  {
   "cell_type": "code",
   "execution_count": 15,
   "id": "b3831d49",
   "metadata": {},
   "outputs": [
    {
     "name": "stdout",
     "output_type": "stream",
     "text": [
      "[StateMachine] Starting: __entry__\n",
      "[StateMachine] Executing step: message_prep\n",
      "[StateMachine] Executing step: llm_processor\n",
      "[StateMachine] Starting: __entry__\n",
      "[StateMachine] Executing step: retrieve\n",
      "[StateMachine] Executing step: augment\n",
      "[StateMachine] Executing step: generate\n",
      "[StateMachine] Terminating: __termination__\n",
      "[StateMachine] Executing step: tool_executor\n",
      "[StateMachine] Executing step: llm_processor\n",
      "[StateMachine] Terminating: __termination__\n",
      "\n",
      "Messages from run 2:\n",
      " -> (role = system, content = You are an expert market analyst., tool_calls = None)\n",
      " -> (role = user, content = Which two countries accounted for most of the electric car exports from the Asia Pacific region (excluding China) in 2024?, tool_calls = None)\n",
      " -> (role = assistant, content = None, tool_calls = [ChatCompletionMessageFunctionToolCall(id='call_O6ZpHaUyEspukAjsoTKf1Arh', function=Function(arguments='{\"query\":\"electric car exports Asia Pacific 2024\"}', name='search_global_ev_collection'), type='function')])\n",
      " -> (role = tool, content = \"I don't know.\", tool_calls = None)\n",
      " -> (role = assistant, content = I currently do not have the information on the two countries that accounted for most of the electric car exports from the Asia Pacific region (excluding China) in 2024. You may want to refer to market reports or industry publications for the latest data on this topic., tool_calls = None)\n"
     ]
    }
   ],
   "source": [
    "run_2 = agentic_rag.invoke(\n",
    "    query= (\n",
    "        \"Which two countries accounted for most of the electric car exports from \" \n",
    "        \"the Asia Pacific region (excluding China) in 2024?\"\n",
    "    ),\n",
    "    session_id=\"electric_car\",\n",
    ")\n",
    "\n",
    "print(\"\\nMessages from run 2:\")\n",
    "messages = run_2.get_final_state()[\"messages\"]\n",
    "print_messages(messages)"
   ]
  },
  {
   "cell_type": "code",
   "execution_count": 16,
   "id": "25698ab2",
   "metadata": {},
   "outputs": [
    {
     "name": "stdout",
     "output_type": "stream",
     "text": [
      "[StateMachine] Starting: __entry__\n",
      "[StateMachine] Executing step: message_prep\n",
      "[StateMachine] Executing step: llm_processor\n",
      "[StateMachine] Terminating: __termination__\n",
      "\n",
      "Messages from run 3:\n",
      " -> (role = system, content = You are an expert market analyst., tool_calls = None)\n",
      " -> (role = user, content = Why is generative AI seen more as an accelerator than a replacement in game development?, tool_calls = None)\n",
      " -> (role = assistant, content = Generative AI is viewed more as an accelerator than a replacement in game development for several key reasons:\n",
      "\n",
      "1. **Enhancement of Creativity**: Generative AI tools assist developers by providing inspiration and new ideas, enhancing the creative process rather than replacing human creativity. They can generate unique assets, storylines, or game mechanics, allowing developers to explore a wider range of possibilities.\n",
      "\n",
      "2. **Efficiency in Production**: AI can automate repetitive tasks such as asset creation, level design, and testing, which speeds up the development process. This allows human developers to focus on more complex, creative, and strategic aspects of game development.\n",
      "\n",
      "3. **Collaboration with Human Designers**: Generative AI acts as a collaborator. Designers can use AI-generated content as a base or starting point, refining and modifying it to better suit their vision. This synergy between human input and AI capabilities results in richer and more diverse game experiences.\n",
      "\n",
      "4. **Customization and Personalization**: AI can help create more personalized gaming experiences by generating content tailored to individual player preferences. This is an enhancement of existing gameplay rather than a replacement of traditional methods.\n",
      "\n",
      "5. **Support for Complex Systems**: In many games, especially open-world or sandbox styles, the complexity of game systems can be overwhelming. AI can help manage these complexities by generating dynamic content or scenarios that respond to player actions, maintaining engagement without replacing the underlying design.\n",
      "\n",
      "6. **Cost-Effectiveness**: By reducing the time and resources needed for certain tasks, generative AI can help studios, especially smaller ones, to produce high-quality games without the need for large teams, making game development more accessible.\n",
      "\n",
      "7. **Continuous Improvement**: Generative AI can learn from player interactions and feedback, improving its outputs over time. This iterative process enhances game development rather than taking over the entire creative process.\n",
      "\n",
      "In summary, generative AI serves as a powerful tool that complements and enhances the skills of human game developers, streamlining workflows and fostering creativity while allowing humans to maintain control over the artistic and narrative aspects of game design., tool_calls = None)\n"
     ]
    }
   ],
   "source": [
    "run_3 = agentic_rag.invoke(\n",
    "    query= (\n",
    "        \"Why is generative AI seen more as an accelerator than a replacement in game development?\"\n",
    "    ),\n",
    "    session_id=\"games\",\n",
    ")\n",
    "\n",
    "print(\"\\nMessages from run 3:\")\n",
    "messages = run_3.get_final_state()[\"messages\"]\n",
    "print_messages(messages)"
   ]
  },
  {
   "cell_type": "code",
   "execution_count": null,
   "id": "eff934c9",
   "metadata": {},
   "outputs": [],
   "source": []
  }
 ],
 "metadata": {
  "kernelspec": {
   "display_name": ".venv",
   "language": "python",
   "name": "python3"
  },
  "language_info": {
   "codemirror_mode": {
    "name": "ipython",
    "version": 3
   },
   "file_extension": ".py",
   "mimetype": "text/x-python",
   "name": "python",
   "nbconvert_exporter": "python",
   "pygments_lexer": "ipython3",
   "version": "3.11.7"
  }
 },
 "nbformat": 4,
 "nbformat_minor": 5
}
